{
 "cells": [
  {
   "cell_type": "code",
   "execution_count": 3,
   "metadata": {
    "collapsed": false
   },
   "outputs": [
    {
     "name": "stdout",
     "output_type": "stream",
     "text": [
      "[16 26 36 46]\n"
     ]
    }
   ],
   "source": [
    "#Question 1 Python 2.7\n",
    "\n",
    "#Create three numpy arrays: a = [20,30,40,50], b = [4,4,4,4], and c = a-b\n",
    "\n",
    "import numpy as np\n",
    "\n",
    "a = np.array([20,30,40,50])\n",
    "b = np.array([4,4,4,4])\n",
    "c = a-b\n",
    "\n",
    "print c\n"
   ]
  },
  {
   "cell_type": "code",
   "execution_count": 9,
   "metadata": {
    "collapsed": false
   },
   "outputs": [
    {
     "name": "stdout",
     "output_type": "stream",
     "text": [
      "[33 44 51 48 47 70 82 27 19 65 87 62 95 56  7 76 45 74  6 69 87 67 73 41 87\n",
      " 62  9 57 15 28 55 39 22 97 76 30 13 51 86 85 79 81 78  6 39 93 16 97  1  8\n",
      " 60 34 10 82 14 16 56 87 86 47 53  0  1 21 43 74 80 64 54 53 42 44 35 68 19\n",
      " 93 58 19 16 96 66 45 16 56  8  7 61 89 62 21 92 74 50 16 63 17  6 70 26 13\n",
      " 43 65 78 70 42 95 10 59  7 34 20 58 43 69 72 48 25 57 84 36 94 33 17 95 49\n",
      " 88 99 22 37 71  4 44 72 31 57 97 70 33 69 35 15 36 77 67 46 90 76 11 86 42\n",
      " 55 41 48 68 57 96 58 46 47 39 56 75 95 56 89 72 24 58  5 85  4 25 64 69 97\n",
      " 15  3 13 22 91 86 29  6 71 11  8 72 29 14 16 65 41 46 21 12 58 91 90 82 49\n",
      "  0 17 18 75 94 29 28 34 52 73 24  8  5 49 94 62 13 26 61 89 18 36 74 72 32\n",
      " 80 16 71  6 62 36 24 31 59 97 86 34 61 24 21 22 97 71 10 17  6 62 37 26 78\n",
      "  3 96 29 88 99 78 20  9 20 84 95 15 43 74  6 35 72 73 22 63 45 78 57 96 64\n",
      " 15 94 60 48 78 35 81 21 40 59 13  8 82 16 19 20 65 90 81 78  9 48 38 46 27\n",
      " 25  4 91  3 83 84 94 97 81 94 24  0 75 68 70 12 72  2  6 98 55  6 93 54 83\n",
      " 92 40 69 99 34  9 73 85 93 60 23 48 48 55  5 31 29  9 48 67 52 27 79 18 82\n",
      " 17  5 28 39 98 94 60 93 28  0 47 85 16 64 81 14  3 93 24 36 62 73 72 67 31\n",
      " 10 27 84 37 18 94 47 97 20 65 53 67 24  8 28 54 37 11 69 41  1 55 35 12 14\n",
      " 39 53 26  8 51 47 15 56 74 49 24 16 43 10 46 20 75 15 30 54 77 14 54 21 33\n",
      "  2 27 38 22 52 42 41 97 20 54 63 62 17 51 29 12 59 67 79 35 64 88 70 48  9\n",
      " 11 13 68 41 15 42 77 80 91  4 47 22 77  7 20 99  3 77 56 17 84 24 47 76 61\n",
      " 75 90 90 58 91 30  8 69  7 17  8 23 58 90 14 94 24 51 74 31 18 33  9 26  5\n",
      " 46 47 55 18 14 40 14 80 46 83 23 92 46 64 58  2 19 66 35  5 57 26 11 42  9\n",
      " 55 93 80 74 44 18 86 67 96 48  3 72 14 12 39 90 91 29 93 33 91 41 73 29 15\n",
      " 56 97 27  0 22 11 31 49 98 26 50 41 32 26 14 28 68  9 22 76 19 47 72 72 71\n",
      " 97 17 21 71 31 33 15  6  1 70  5 90 52 64 12  9 51 13 65 25 54  1  9 81 88\n",
      "  1 16 28 19 41 76 66 36 16 67 15 17 37 52 79 33 66 94 90 50  2 17 87 77 84\n",
      " 78 41 17 66 41 18 30 92 89 13 67 18 66 41 78 86 46 24  0 80 85 96 89 73 94\n",
      " 45 84 51 43 86 70 97 74 34 88 98 67 11 61 63 70 48 33 48 36 71 34 78 42 59\n",
      " 51  4 16 30 46 54 91 47 92 13 66 13 29 43 50  1 66 75  8 14 92 10 62 31 31\n",
      " 40 22 33 68 43 45 85  7 82 20 95  2 94 98  1 75 22 80 53 80 80 25 98 96 35\n",
      " 31 60 20 14 74 29 16 35 55 53  7 46 41 12 31  7 39 58  1 83 36 26 78 25 80\n",
      " 78 60 22 67 98 77 59 44 71 14 13 65 84 72 82  1 84 26 95 39 30 39 84 90 86\n",
      " 47  3 84 24 32 14 20 56 38 89 83 50  6 53 82 12 51 97 15 67 25 27 14 66 53\n",
      " 56 14 87 55  7 35 58 92 25 81 31 78 30 82 91 93 26 50 58 23 60 93 47 14 15\n",
      " 29 28 73 68 56  4 13 63 17 39 65  1 90  5 33 78 37 50 51 73 97 26 40 83  6\n",
      " 67 16  6 91 78 88 17 42 71 63 35 74 11 41 72 45 79 75  3 98 39 64 35 85 10\n",
      " 49 80 90 91 75 27 37 44 68 83 66 66 84 63 58 21  3 71 75 78 76 68 78 50 52\n",
      " 72 69 83 73 98 45 93 34 20 25 40 30 37 24 89 16 93 27 90 70 89 15  6 28 90\n",
      " 28 37 96  7 62 37 12 25 53  4 39  8 76 78 30 82 81  6 49 83 10 24 89 31 88\n",
      " 90 32 96 88 94 82 85 20 49 21 69 31 64 17 12  7 35 90  4 43 21 47 50 77 76\n",
      " 14  6 52 83 64 56 81 18 98 95 58 32 31 46 12 29 38  3 67 35 42 99 76 20 27]\n"
     ]
    }
   ],
   "source": [
    "#Question #2 Python 2.7\n",
    "\n",
    "# Create a random numpy array of 1000 values that have value ranges 0-100\n",
    "\n",
    "import numpy as np\n",
    "\n",
    "arr = np.array(np.random.randint(0,100,1000))\n",
    "\n",
    "print arr"
   ]
  },
  {
   "cell_type": "code",
   "execution_count": 10,
   "metadata": {
    "collapsed": false
   },
   "outputs": [
    {
     "name": "stdout",
     "output_type": "stream",
     "text": [
      "    name   species  age  weight\n",
      "0   arun       cat    5     7.3\n",
      "1    bob      bird    2     1.5\n",
      "2   coco       cat    2     5.5\n",
      "3  dumbo  elephant   23   454.0\n",
      "4   elmo       dog    5    11.0\n",
      "5   fido       dog    3    24.5\n",
      "6  gumba      bird    2     2.7\n",
      "Mean cat:  3.5\n",
      "Mean dog:  4.0\n",
      "Mean bird:  2.0\n",
      "Mean elephant:  23.0\n"
     ]
    }
   ],
   "source": [
    "#Question 3 : read the file animals.txt (located in assignment) \n",
    "#into a Pandas dataframe and report the mean ages of each animal species Python 2.7\n",
    "\n",
    "import pandas as pd\n",
    "\n",
    "animals = pd.DataFrame(pd.read_csv(\"animals.txt\",sep= \"|\"))\n",
    "\n",
    "print animals\n",
    "\n",
    "cat = animals.groupby([\"species\"]).get_group(\"cat\")\n",
    "print \"Mean cat: \" , cat[\"age\"].mean()\n",
    "dog = animals.groupby([\"species\"]).get_group(\"dog\")\n",
    "print \"Mean dog: \" , dog[\"age\"].mean()\n",
    "bird = animals.groupby([\"species\"]).get_group(\"bird\")\n",
    "print \"Mean bird: \" , bird[\"age\"].mean()\n",
    "elephant = animals.groupby([\"species\"]).get_group(\"elephant\")\n",
    "print \"Mean elephant: \" , elephant[\"age\"].mean()"
   ]
  },
  {
   "cell_type": "code",
   "execution_count": 11,
   "metadata": {
    "collapsed": false
   },
   "outputs": [
    {
     "name": "stdout",
     "output_type": "stream",
     "text": [
      "Number of cats:  2\n",
      "Number of dogs:  2\n",
      "Number of birds:  2\n",
      "Number of elephants:  1\n"
     ]
    }
   ],
   "source": [
    "#Question 4 :read the file animals.txt (located in assignment) using numpy.loadtxt() \n",
    "#and print the number of each animal encountered Python 2.7\n",
    "\n",
    "import numpy as np\n",
    "\n",
    "animals = np.array(np.loadtxt(\"animals.txt\", dtype = \"string\", delimiter = \"|\", usecols = (1,)))\n",
    "\n",
    "print \"Number of cats: \",(animals == \"cat\").sum()\n",
    "print \"Number of dogs: \",(animals == \"dog\").sum()\n",
    "print \"Number of birds: \",(animals == \"bird\").sum()\n",
    "print \"Number of elephants: \",(animals == \"elephant\").sum()"
   ]
  },
  {
   "cell_type": "code",
   "execution_count": 7,
   "metadata": {
    "collapsed": false
   },
   "outputs": [
    {
     "name": "stdout",
     "output_type": "stream",
     "text": [
      "The Average mass is:  31.992578125\n",
      "The Average age is:  33.2408854167\n"
     ]
    }
   ],
   "source": [
    "# Question 5 Python 2.7\n",
    "# Load CSV using Pandas from URL and calculate the average of the 'mass' and 'age' columns\n",
    "from pandas import read_csv\n",
    "url = \"https://goo.gl/vhm1eU\"\n",
    "names = ['preg', 'plas', 'pres', 'skin', 'test', 'mass', 'pedi', 'age', 'class']\n",
    "data = read_csv(url, names=names)\n",
    "#print(data.shape)\n",
    "print \"The Average mass is: \",data[\"mass\"].mean()\n",
    "print \"The Average age is: \",data[\"age\"].mean()"
   ]
  },
  {
   "cell_type": "code",
   "execution_count": 8,
   "metadata": {
    "collapsed": false
   },
   "outputs": [
    {
     "name": "stdout",
     "output_type": "stream",
     "text": [
      "[   0    1    4    9   16   25   36   49   64   81  100  121  144  169  196\n",
      "  225  256  289  324  361  400  441  484  529  576  625  676  729  784  841\n",
      "  900  961 1024 1089 1156 1225 1296 1369 1444 1521 1600 1681 1764 1849 1936\n",
      " 2025 2116 2209 2304 2401 2500 2601 2704 2809 2916 3025 3136 3249 3364 3481\n",
      " 3600 3721 3844 3969 4096 4225 4356 4489 4624 4761 4900 5041 5184 5329 5476\n",
      " 5625 5776 5929 6084 6241 6400 6561 6724 6889 7056 7225 7396 7569 7744 7921\n",
      " 8100 8281 8464 8649 8836 9025 9216 9409 9604 9801]\n"
     ]
    },
    {
     "data": {
      "text/plain": [
       "[<matplotlib.lines.Line2D at 0x116885550>]"
      ]
     },
     "execution_count": 8,
     "metadata": {},
     "output_type": "execute_result"
    },
    {
     "data": {
      "image/png": "[encoded data removed]",
      "text/plain": [
       "<matplotlib.figure.Figure at 0x111743ed0>"
      ]
     },
     "metadata": {},
     "output_type": "display_data"
    }
   ],
   "source": [
    "# Question 6 Python 2.7\n",
    "\n",
    "# Plot a set of values for x*x for x in range 0 to 100\n",
    "\n",
    "%matplotlib inline\n",
    "\n",
    "import numpy as np\n",
    "import matplotlib.pyplot as plt\n",
    "\n",
    "\n",
    "x = np.array(range(0,100))\n",
    "y = np.array(range(0,100))\n",
    "\n",
    "X = x*y\n",
    "\n",
    "print X\n",
    "plt.plot(x,X)"
   ]
  },
  {
   "cell_type": "code",
   "execution_count": null,
   "metadata": {
    "collapsed": true
   },
   "outputs": [],
   "source": []
  }
 ],
 "metadata": {
  "anaconda-cloud": {},
  "kernelspec": {
   "display_name": "Python [Root]",
   "language": "python",
   "name": "Python [Root]"
  },
  "language_info": {
   "codemirror_mode": {
    "name": "ipython",
    "version": 2
   },
   "file_extension": ".py",
   "mimetype": "text/x-python",
   "name": "python",
   "nbconvert_exporter": "python",
   "pygments_lexer": "ipython2",
   "version": "2.7.12"
  }
 },
 "nbformat": 4,
 "nbformat_minor": 0
}
